{
 "cells": [
  {
   "cell_type": "markdown",
   "id": "e9072b21-4c8a-4dc3-8110-2edfafe869bf",
   "metadata": {},
   "source": [
    "# AHRS\n",
    "\n",
    "This Notebook showcases the most important classes and functions included in the Python package `ahrs`.\n",
    "\n",
    "Here we will explore the basic use of:\n",
    "\n",
    "- Class [DCM](https://ahrs.readthedocs.io/en/latest/dcm/classDCM.html)\n",
    "- Class [Quaternion](https://ahrs.readthedocs.io/en/latest/quaternion/classQuaternion.html)\n",
    "- Class [QuaternionArray](https://ahrs.readthedocs.io/en/latest/quaternion/classQuaternionArray.html)\n",
    "- The new class [Sensors](https://ahrs.readthedocs.io/en/latest/sensors.html) to simulate sensor data.\n",
    "- The use of [Attitude estimation algorithms](https://ahrs.readthedocs.io/en/latest/filters.html).\n",
    "- [Metrics functions](https://ahrs.readthedocs.io/en/latest/metrics.html) for orientation representations.\n",
    "- The [World Magnetic Model](https://ahrs.readthedocs.io/en/latest/wmm.html)\n",
    "- The [World Geodetic System](https://ahrs.readthedocs.io/en/latest/wgs84.html)\n",
    "- And diverse tools included in `ahrs`.\n",
    "\n",
    "### Helping Packages\n",
    "\n",
    "Plotting and data-handling tools are imported from the script `tools.py` located in the current directory.\n",
    "\n",
    "- `plot` shows time-series data in vertically stacked plots.\n",
    "- `plot3` shows a 3D scene, where particles, frames, and items exist and interact in the same space.\n",
    "\n",
    "Packages `matplotlib` and `ipympl` are required to build interactive visualizations in the Notebook. Make sure you have those installed.\n",
    "\n",
    "These tools simplify the visualization of orientations in 3d, or time-series data, but are **NOT** included in the `ahrs` package.\n",
    "\n",
    "Once you have `ahrs` installed (which also installs `numpy`) and you have the forementioned libraries, we can start by setting our notebook up."
   ]
  },
  {
   "cell_type": "code",
   "execution_count": null,
   "id": "65b78e9a",
   "metadata": {},
   "outputs": [],
   "source": [
    "# Use widgets\n",
    "%matplotlib widget\n",
    "\n",
    "# Import NumPy\n",
    "import numpy as np\n",
    "\n",
    "# Seed random generator\n",
    "GENERATOR = np.random.default_rng(42)\n",
    "\n",
    "# Import plotting tools\n",
    "from tools import plot\n",
    "from tools import plot3"
   ]
  },
  {
   "cell_type": "markdown",
   "id": "54f309e6-e977-4944-96ff-b726738ea81c",
   "metadata": {},
   "source": [
    "## AHRS Basics\n",
    "\n",
    "We can start now. Let's import our favorite package."
   ]
  },
  {
   "cell_type": "code",
   "execution_count": null,
   "id": "4e670fb6-1974-4705-bece-0b40a183a99d",
   "metadata": {},
   "outputs": [],
   "source": [
    "import ahrs"
   ]
  },
  {
   "cell_type": "markdown",
   "id": "1a8c2f0f-9986-4b91-97eb-e6cf15edbce3",
   "metadata": {},
   "source": [
    "## Attitude Representations\n",
    "\n",
    "The first elements we want to manipulate and use are the representations of any Attitude (that's the \"A\" in AHRS.)\n",
    "\n",
    "There are many ways to mathematically represent the attitude:\n",
    "\n",
    "1. Direction Cosine Matrix.\n",
    "2. Euler Angles.\n",
    "3. Axis-Angle.\n",
    "4. Quaternion.\n",
    "\n",
    "Let's check the most intuitive first.\n",
    "\n",
    "### Direction Cosine Matrix\n",
    "\n",
    "The [Direction Cosine Matrix](https://ahrs.readthedocs.io/en/latest/dcm.html)can be built with the class [DCM](https://ahrs.readthedocs.io/en/latest/dcm/classDCM.html). This represents either:\n",
    "\n",
    "- the **orientation** of a frame in 3D space with respect to another reference frame in the same space, or\n",
    "- the **linear operation**, where a point (or points) is (are) rotated according the rotation described in the DCM.\n",
    "\n",
    "Normally the global frame is represented by the 3x3 Identity matrix."
   ]
  },
  {
   "cell_type": "code",
   "execution_count": null,
   "id": "c07441ae-945d-4872-bec0-b988bd4328b7",
   "metadata": {},
   "outputs": [],
   "source": [
    "global_frame = ahrs.DCM()    # An empty DCM is initialized as the global frame\n",
    "print(\"Global frame:\")\n",
    "print(global_frame.view())\n",
    "plot3(frames=global_frame)"
   ]
  },
  {
   "cell_type": "markdown",
   "id": "8b1e60ee-28d2-4156-98ba-51dfe4511f96",
   "metadata": {},
   "source": [
    "As you can see, any frame in 3D can be visualized with three orthogonal axes of length one. The X-, Y-, and Z-axis are represented with red, green and blue color, respectively.\n",
    "\n",
    "Each axis is described in the columns of the DCM:\n",
    "\n",
    "$$\n",
    "\\begin{bmatrix}\n",
    "  \\color{red}{|} &  \\color{green}{|} & \\color{blue}{|} \\\\\n",
    "  \\color{red}{X} &  \\color{green}{Y} & \\color{blue}{Z} \\\\\n",
    "  \\color{red}{|} &  \\color{green}{|} & \\color{blue}{|}\n",
    " \\end{bmatrix}\n",
    "$$\n",
    "\n",
    "To make it easier. Imagine:\n",
    "\n",
    "- The first column describes the three-dimensional postition of the X-axis tip (red)\n",
    "- The second column describes the three-dimensional postition of the Y-axis tip (green)\n",
    "- The third column describes the three-dimensional postition of the Z-axis tip (blue)\n",
    "\n",
    "Go back up and see that the visualized frame actually describes the columns of the global frame.\n",
    "\n",
    "$$\n",
    "\\begin{array}{lcr}\n",
    "X = \\begin{bmatrix} 1 \\\\ 0 \\\\ 0 \\end{bmatrix} &\n",
    "Y = \\begin{bmatrix} 0 \\\\ 1 \\\\ 0 \\end{bmatrix} &\n",
    "Z = \\begin{bmatrix} 0 \\\\ 0 \\\\ 1 \\end{bmatrix}\n",
    "\\end{array}\n",
    "$$\n",
    "\n",
    "The class `DCM` works in radians. If you want to use degrees, you can transform your values with the helper constant `DEG2RAD`.\n",
    "\n",
    "Now let's built a matrix describing a rotation of 45° about the Z-axis, and confirm that its elements describe the position of each Axis' tip."
   ]
  },
  {
   "cell_type": "code",
   "execution_count": null,
   "id": "fd6e95f1-3c8c-4e65-bd2e-ad0bac57a2ef",
   "metadata": {},
   "outputs": [],
   "source": [
    "rotated_frame = ahrs.DCM(z=45.0*ahrs.DEG2RAD)    # DCM rotated 45 degrees (see helper constant) about the Z-axis\n",
    "print(\"Rotation of 45° about global frame's Z-axis:\")\n",
    "print(rotated_frame.view())\n",
    "plot3(frames=rotated_frame)"
   ]
  },
  {
   "cell_type": "markdown",
   "id": "30224465-8620-406d-8157-a63339686b97",
   "metadata": {},
   "source": [
    "You see the Z-axis (blue) remains unchanged, while the other points rotate around it, as expected.\n",
    "\n",
    "The class `DCM` is derived from [NumPy arrays](https://numpy.org/doc/stable/reference/generated/numpy.array.html), and its attributes and methods are kept.\n",
    "\n",
    "The DCM's characteristics in SO(3) are conveniently added. Operations between DCMs yield DCMs too.\n",
    "\n",
    "You can also build the DCM, by giving it any valid $3\\times 3$ orthogonal matrix in [SO(3)](https://en.wikipedia.org/wiki/3D_rotation_group)."
   ]
  },
  {
   "cell_type": "code",
   "execution_count": null,
   "id": "21b79f46-02ce-4582-8d47-06a0384e786d",
   "metadata": {},
   "outputs": [],
   "source": [
    "valid_rotation = ahrs.DCM(np.array([[np.sqrt(2)/2, -np.sqrt(2)/2, 0], [np.sqrt(2)/2, np.sqrt(2)/2, 0], [0, 0, 1]]))\n",
    "valid_rotation.view()"
   ]
  },
  {
   "cell_type": "markdown",
   "id": "f1884096-e149-445a-9a82-834a0029201e",
   "metadata": {},
   "source": [
    "It fails if it is not in SO(3)"
   ]
  },
  {
   "cell_type": "code",
   "execution_count": null,
   "id": "2742fc20-8554-430f-b381-7305e43786d4",
   "metadata": {},
   "outputs": [],
   "source": [
    "invalid_rotation = ahrs.DCM(np.array([[0, 1, 2], [3, 4, 5], [6, 7, 8]]))"
   ]
  },
  {
   "cell_type": "markdown",
   "id": "ae9d3c35-0dce-4037-a145-9be9e5509c31",
   "metadata": {},
   "source": [
    "### Euler Angles\n",
    "\n",
    "DCMs can be built in different ways, the most famous one is through Euler Angles.\n",
    "\n",
    "These angles, first introduced by [Leonhard Euler](https://en.wikipedia.org/wiki/Leonhard_Euler) are three angles describing the orientation of an object with respect to a fixed coordinate system.\n",
    "\n",
    "Three composed (chained) **elemental rotations** are always sufficient to reach any frame in 3D space. In this case, we can build each rotation separately with our class `DCM` by setting it in its constructor.\n",
    "\n",
    "The chained multiplication of these orientations yields a final composed orientation.\n",
    "\n",
    "Because the rotation operations are **always with respect to the initial global frame**, it is called an **[Extrinsic rotation](https://en.wikipedia.org/wiki/Euler_angles#Conventions_by_extrinsic_rotations)**."
   ]
  },
  {
   "cell_type": "code",
   "execution_count": null,
   "id": "4ede2c84-c356-4055-addc-92d8fccc590d",
   "metadata": {},
   "outputs": [],
   "source": [
    "print(\"Rotation of 10 degrees about X-axis:\")\n",
    "print(ahrs.DCM(x=10.0*ahrs.DEG2RAD))\n",
    "\n",
    "print(\"Rotation of 20 degrees about Y-axis:\")\n",
    "print(ahrs.DCM(y=20.0*ahrs.DEG2RAD))\n",
    "\n",
    "print(\"Rotation of 30 degrees about Z-axis:\")\n",
    "print(ahrs.DCM(z=30.0*ahrs.DEG2RAD))\n",
    "\n",
    "# New rotation matrix from products of rotations about X-, Y-, and Z-axis, respectively.\n",
    "# Order of matrix multiplication is right to left: x --> y --> z\n",
    "orientation = ahrs.DCM(z=30.0*ahrs.DEG2RAD) @ ahrs.DCM(y=20.0*ahrs.DEG2RAD) @ ahrs.DCM(x=10.0*ahrs.DEG2RAD)\n",
    "\n",
    "print(f\"Rotation Matrix {type(orientation)}:\")\n",
    "print(orientation)"
   ]
  },
  {
   "cell_type": "markdown",
   "id": "505fe5be-25d4-4407-9ec1-365688d8834a",
   "metadata": {},
   "source": [
    "This proces can be simplified at creation of the DCM object setting the [Euler angles](https://en.wikipedia.org/wiki/Euler_angles) tuple:"
   ]
  },
  {
   "cell_type": "code",
   "execution_count": null,
   "id": "3b2f1a04-6dd1-4e94-a53f-de1c28c22cf2",
   "metadata": {},
   "outputs": [],
   "source": [
    "orientation = ahrs.DCM( euler=('zyx', np.array([30.0, 20.0, 10.0])*ahrs.DEG2RAD) )\n",
    "orientation.view()"
   ]
  },
  {
   "cell_type": "markdown",
   "id": "5179869a-9b87-47bb-9ffa-09eb62017e28",
   "metadata": {},
   "source": [
    "As you can see, for the Euler angles we tried to match the mathematical order of multiplication from right to left.\n",
    "\n",
    "The custom class [DCM](https://ahrs.readthedocs.io/en/latest/dcm/classDCM.html) includes the basic attributes describing the mathematical properties of a DCM."
   ]
  },
  {
   "cell_type": "code",
   "execution_count": null,
   "id": "046c9a46-5b4b-4e5c-a4f8-e4e9c40afa7e",
   "metadata": {},
   "outputs": [],
   "source": [
    "attribute_list = ['T', 'I', 'inv', 'det', 'determinant', 'fro', 'frobenius', 'adj', 'adjugate', 'log']\n",
    "for attribute_name in attribute_list:\n",
    "    print(f\"rotation.{attribute_name} =\")\n",
    "    print(orientation.__getattribute__(attribute_name), '\\n')"
   ]
  },
  {
   "cell_type": "markdown",
   "id": "151705fa-e3ca-40ef-85e0-8674bbcadcb6",
   "metadata": {},
   "source": [
    "For a full detail of its properties, see its [documentation](https://ahrs.readthedocs.io/en/latest/dcm/classDCM.html).\n",
    "\n",
    "On top of that, it has a plethora of methods that help us to get extra information."
   ]
  },
  {
   "cell_type": "code",
   "execution_count": null,
   "id": "5eedfc5e-b40b-47cc-ba29-eae8f89491bc",
   "metadata": {},
   "outputs": [],
   "source": [
    "# List all DCM methods and the first descriptive line from each docstring\n",
    "from tools import describe_methods\n",
    "describe_methods(orientation)"
   ]
  },
  {
   "cell_type": "markdown",
   "id": "e471d56e-3e2a-4017-bc15-187e76bd156a",
   "metadata": {},
   "source": [
    "Have a look at the documentation of the class [DCM](https://ahrs.readthedocs.io/en/latest/dcm/classDCM.html) for more details about the most important methods.\n",
    "\n",
    "### Axis-Angle\n",
    "\n",
    "A rotation can also be expressed with a pair parametrizing it. This pair is the axis of rotation as a three-dimensional vector, and its corresponding angle of rotation.\n",
    "\n",
    "For example, for the rotation above, we simply indicate that we rotate 45° around the Z-axis like this:"
   ]
  },
  {
   "cell_type": "code",
   "execution_count": null,
   "id": "86bec3c5-1351-4d23-a191-d3cf124086fd",
   "metadata": {},
   "outputs": [],
   "source": [
    "rotation = ahrs.DCM(axang=([0, 0, 1], 45*ahrs.DEG2RAD))\n",
    "rotation.view()"
   ]
  },
  {
   "cell_type": "markdown",
   "id": "bb97c60b-4f4b-41c8-b52f-a71c3955dfa4",
   "metadata": {},
   "source": [
    "Notice the axis **MUST** have a norm equal to 1.\n",
    "\n",
    "$$\n",
    "Z = \\begin{bmatrix}0 \\\\ 0 \\\\ 1\\end{bmatrix}\n",
    "$$\n",
    "\n",
    "To guarantee it the method [from_axisangle](https://ahrs.readthedocs.io/en/latest/dcm/classDCM.from_axisangle.html) (used by the class DCM) normalizes it immediately."
   ]
  },
  {
   "cell_type": "code",
   "execution_count": null,
   "id": "948dc119-7cf8-4d57-ad16-d748bca0fc1d",
   "metadata": {},
   "outputs": [],
   "source": [
    "ahrs.DCM(axang=([0, 0, 2], 45*ahrs.DEG2RAD))"
   ]
  },
  {
   "cell_type": "markdown",
   "id": "fa790f72-d841-41a0-a7f1-251bf0dfa270",
   "metadata": {},
   "source": [
    "### Quaternions\n",
    "\n",
    "The fourth and most useful representation explored here is the Quaternion.\n",
    "\n",
    "With `ahrs` you build [unit Quaternions](https://en.wikipedia.org/wiki/Quaternion#Unit_quaternion), a.k.a. [Versors](https://en.wikipedia.org/wiki/Versor), even with an empty call, which returns the so-called `identity quaternion`:\n",
    "\n",
    "$$\n",
    "\\mathbf{q} = \\begin{bmatrix}1 & 0 & 0 & 0\\end{bmatrix}\n",
    "$$"
   ]
  },
  {
   "cell_type": "code",
   "execution_count": null,
   "id": "b044205e-c738-42ac-8805-1d563f56ff9c",
   "metadata": {},
   "outputs": [],
   "source": [
    "q = ahrs.Quaternion()\n",
    "q.view()"
   ]
  },
  {
   "cell_type": "markdown",
   "id": "3adb434d-1700-43b6-bf9a-9a2e00628099",
   "metadata": {},
   "source": [
    "As with the DCM, we can initialize our quaternions in different ways:"
   ]
  },
  {
   "cell_type": "code",
   "execution_count": null,
   "id": "c5fc3c88-46bb-478b-b288-71b43490226f",
   "metadata": {},
   "outputs": [],
   "source": [
    "print(\"Random quaternion:\\n\", ahrs.Quaternion(random=True))\n",
    "print(\"4-element array:\\n\", ahrs.Quaternion([1., -2., 3., -4]))\n",
    "print(\"3-element array:\\n\", ahrs.Quaternion([1., -2., 3.]))\n",
    "print(\"From DCM:\\n\", ahrs.Quaternion(dcm=np.array([[np.sqrt(2)/2, -np.sqrt(2)/2, 0], [np.sqrt(2)/2, np.sqrt(2)/2, 0], [0, 0, 1]])))\n",
    "print(\"Roll-pitch-yaw angles:\\n\", ahrs.Quaternion(rpy=np.array([30.0, 20.0, 10.0])*ahrs.DEG2RAD))"
   ]
  },
  {
   "cell_type": "markdown",
   "id": "59fbafc5-0596-4a37-9132-12a1cbe0c52e",
   "metadata": {},
   "source": [
    "We can notice some things here:\n",
    "\n",
    "- Quaternion inputs are ALWAYS normalized.\n",
    "- When we cast the Quaternion as a [string](https://docs.python.org/3/library/stdtypes.html#text-sequence-type-str) (call it in a print) we get a \"prettier\" representation based on [Hamilton's initial description](https://en.wikipedia.org/wiki/History_of_quaternions#Hamilton's_discovery) of the basis vectors using $\\mathcal{i}$, $\\mathcal{j}$, and $\\mathcal{k}$ for the vector part.\n",
    "- When a quaternion is built with 3 items. It creates a pure quaternion, that is a quaternion with a scalar part equal to 0, while the 3 elements are set for the vector part.\n",
    "\n",
    "Going back to the example above, we can represent the orientation as quaternion giving the values of the roll-pitch-yaw angles:"
   ]
  },
  {
   "cell_type": "code",
   "execution_count": null,
   "id": "6a0bfe15-82c4-4933-a362-b665f6c3a5bd",
   "metadata": {},
   "outputs": [],
   "source": [
    "q = ahrs.Quaternion(rpy=([0, 0, 45*ahrs.DEG2RAD]))\n",
    "q.view()"
   ]
  },
  {
   "cell_type": "markdown",
   "id": "f8efc626-ffd5-46ce-a40d-f80a0d4b3da1",
   "metadata": {},
   "source": [
    "This quaternion represents the same Direction Cosine Matrix of a 45° rotation around the Z-axis (yaw angle):"
   ]
  },
  {
   "cell_type": "code",
   "execution_count": null,
   "id": "784c8ea5-9713-4a4c-a60c-a9a3e990be49",
   "metadata": {},
   "outputs": [],
   "source": [
    "q.to_DCM()"
   ]
  },
  {
   "cell_type": "markdown",
   "id": "8a80dda5-b492-48ab-8b34-b94bc2634e93",
   "metadata": {},
   "source": [
    "The class [Quaternion](https://ahrs.readthedocs.io/en/latest/quaternion/classQuaternion.html) is also subclassed from [NumPy Arrays](https://numpy.org/doc/stable/reference/generated/numpy.ndarray.html), and expands its attributes and methods describing the quaternion:"
   ]
  },
  {
   "cell_type": "code",
   "execution_count": null,
   "id": "50bedc21-ed0f-4424-bcce-6f50a0532e6b",
   "metadata": {},
   "outputs": [],
   "source": [
    "describe_methods(q)"
   ]
  },
  {
   "cell_type": "markdown",
   "id": "e366e163-9b17-42f4-b883-54ae9b69d0b3",
   "metadata": {},
   "source": [
    "For a detailed description of each method and attribute, please check the class' [documentation](https://ahrs.readthedocs.io/en/latest/quaternion/classQuaternion.html)\n",
    "\n",
    "Here are the available attributes:"
   ]
  },
  {
   "cell_type": "code",
   "execution_count": null,
   "id": "ca36f3ad-99d4-4b38-9aeb-db9b1d26290a",
   "metadata": {},
   "outputs": [],
   "source": [
    "attribute_list = ['w', 'x', 'y', 'z', 'v', 'conjugate', 'conj', 'inverse', 'inv', 'exponential', 'exp', 'logarithm', 'log']\n",
    "for attribute_name in attribute_list:\n",
    "    print(f\"{q.__class__.__name__}.{attribute_name} =\")\n",
    "    print(q.__getattribute__(attribute_name), '\\n')"
   ]
  },
  {
   "cell_type": "markdown",
   "id": "22ce1e80-f552-4cdd-a273-7574f7ebe5ab",
   "metadata": {},
   "source": [
    "We cannot visualize the four-dimensional quaternion, but we can represent it in three-dimensions if we convert it to a DCM. Then, we can visualize it."
   ]
  },
  {
   "cell_type": "code",
   "execution_count": null,
   "id": "af1f0443-534a-42a6-9f4b-755bbd9760ba",
   "metadata": {},
   "outputs": [],
   "source": [
    "dcm = q.to_DCM()\n",
    "plot3(frames=dcm)"
   ]
  },
  {
   "cell_type": "markdown",
   "id": "d4e7c17b-499a-4792-a1e0-a1a7e7d1e4c6",
   "metadata": {},
   "source": [
    "Quaternions are very versatile and, contrary to modern myths, very easy to use. For example, if we require the opposite. We merely negate the vector part. This \"opposite\" rotation/orientation is called the [quaternion conjugate](https://en.wikipedia.org/wiki/Quaternion#Conjugation,_the_norm,_and_reciprocal)."
   ]
  },
  {
   "cell_type": "code",
   "execution_count": null,
   "id": "a61d58f5-9899-4800-ad8a-f72ee0942ead",
   "metadata": {},
   "outputs": [],
   "source": [
    "q_c = q.conjugate\n",
    "print(f\"Quaternion conjugate:\\n\", q_c)\n",
    "dcm_inv = ahrs.Quaternion(q_c).to_DCM()\n",
    "plot3(frames=dcm_inv)"
   ]
  },
  {
   "cell_type": "markdown",
   "id": "93b68b56-a4d0-4d06-b8d9-117c502b44a1",
   "metadata": {},
   "source": [
    "The original quaternion described a **counter-clockwise** rotation of 45° about the Z-axis, whereas its conjugate describes a **clockwise** rotation of 45° about the Z-axis.\n",
    "\n",
    "### QuaternionArray\n",
    "\n",
    "There is an extra class called [QuaternionArray](https://ahrs.readthedocs.io/en/latest/quaternion/classQuaternionArray.html), which, as the name suggests, handles more than one quaternion at once.\n",
    "\n",
    "This simplifies repetitive operations between quaternions, and even gives computes new properties already.\n",
    "\n",
    "Let's build an array of quaternions similar to the quaternion above, but different from each other by minor perturbances."
   ]
  },
  {
   "cell_type": "code",
   "execution_count": null,
   "id": "586a352c-d72c-411b-aa66-18348149a4b8",
   "metadata": {},
   "outputs": [],
   "source": [
    "Quaternions = ahrs.QuaternionArray(np.tile([1., 0., 0., np.sqrt(2)-1], (5, 1)) + np.random.randn(5, 4)*0.05)\n",
    "Quaternions.view()"
   ]
  },
  {
   "cell_type": "markdown",
   "id": "25e6fa31-fb47-4611-964b-fe1aeb35f34b",
   "metadata": {},
   "source": [
    "In this case, we can visualize the array of Quaternions using a simple time-series plot."
   ]
  },
  {
   "cell_type": "code",
   "execution_count": null,
   "id": "827ad76f-b400-431f-bbc6-c12bb3495f6f",
   "metadata": {},
   "outputs": [],
   "source": [
    "plot(Quaternions)"
   ]
  },
  {
   "cell_type": "markdown",
   "id": "d54021ba-4850-44b5-8487-ca93a151f652",
   "metadata": {},
   "source": [
    "We can see that every element is plotted per line, where the red line corresponds to the first column (scalar values, or $q_w$), green to the second column ($q_x$), blue to the third column ($q_y$), and gold to the fourth column ($q_z$)"
   ]
  },
  {
   "cell_type": "code",
   "execution_count": null,
   "id": "8b7ca309-9afe-4096-8c6a-07f23c097118",
   "metadata": {},
   "outputs": [],
   "source": [
    "describe_methods(Quaternions)"
   ]
  },
  {
   "cell_type": "markdown",
   "id": "a9556273-12cd-4666-b97e-7c4e4de6b1c0",
   "metadata": {},
   "source": [
    "Class `QuaternionArray` has almost all the same methods as the class `Quaternion`, but with some extra useful ones:"
   ]
  },
  {
   "cell_type": "code",
   "execution_count": null,
   "id": "0f6eb49f-802e-4fdc-b0ae-bff076cccd5d",
   "metadata": {},
   "outputs": [],
   "source": [
    "# Mean Quaternion\n",
    "Quaternions.average()\n",
    "\n",
    "# WARNING: method `mean()` inherited from numpy.array\n",
    "# will compute the numerical mean over all array values,\n",
    "# which is NOT the Mean Quaternion"
   ]
  },
  {
   "cell_type": "code",
   "execution_count": null,
   "id": "1c8d08e8-098e-47af-a5ea-63aa9e0b08bb",
   "metadata": {},
   "outputs": [],
   "source": [
    "# Angular Velocity around X-, Y-, and Z-axis from orientations as Quaternions (given sampling rate in seconds)\n",
    "Quaternions.angular_velocities(0.1)  # Assumes sampling rate of 0.1 s (10 Hz)"
   ]
  },
  {
   "cell_type": "code",
   "execution_count": null,
   "id": "91373327-d946-44ad-b7c5-869c2a51cbc5",
   "metadata": {},
   "outputs": [],
   "source": [
    "# Interpolate missing Quaternion using SLERP\n",
    "Quaternions[2] = np.nan\n",
    "print(\"Array missing 3rd quaternion:\\n\", Quaternions)\n",
    "\n",
    "Quaternions.slerp_nan(inplace=True)\n",
    "print(\"Array with SLERP:\\n\", Quaternions)"
   ]
  },
  {
   "cell_type": "markdown",
   "id": "76df77bd-78f9-4aaf-a80f-d9caad110128",
   "metadata": {},
   "source": [
    "The quaternions $\\begin{bmatrix}q_w & q_x & q_y & q_z\\end{bmatrix}$ and $\\begin{bmatrix}-q_w & -q_x & -q_y & -q_z\\end{bmatrix}$ represent the same orientation, but some people prefer to have them more consistent.\n",
    "\n",
    "The method [remove_jumps](https://ahrs.readthedocs.io/en/latest/quaternion/quaternionarray.remove_jumps.html) \"flips\" the opposite quaternions to make them more \"pleasant\" for the user."
   ]
  },
  {
   "cell_type": "code",
   "execution_count": null,
   "id": "6f29e77f-275b-421c-aff0-be7877da2d7b",
   "metadata": {},
   "outputs": [],
   "source": [
    "# Negate the 4th Quaternion (still same orientation)\n",
    "Quaternions[3] *= -1\n",
    "print(\"Array with negated quaternion (4th):\\n\", Quaternions)\n",
    "\n",
    "# \"Flip\" quaternion back\n",
    "Quaternions.remove_jumps()\n",
    "print(\"Array with 4th quaternion 'flipped back':\\n\", Quaternions)"
   ]
  },
  {
   "cell_type": "markdown",
   "id": "cd5b476b-cc1d-45d0-a952-0da2218e6414",
   "metadata": {},
   "source": [
    "## Sensor Data\n",
    "\n",
    "A great addition for the newest version is the class [Sensors](https://ahrs.readthedocs.io/en/latest/sensors.html), which simulates and synthesizes the IMU sensor signals from a given set of poses.\n",
    "\n",
    "It assumes the poses come from a continuous recording, and it creates the corresponding sensor signals:\n",
    "\n",
    "- Three-axial Gyroscope measurements given as rad/s.\n",
    "- Three-axial Accelerometer measurements given as m/s^2.\n",
    "- Three-axial Magnetometer measurements given as nT.\n",
    "\n",
    "Giving the set of Quaternions from above we get:"
   ]
  },
  {
   "cell_type": "code",
   "execution_count": null,
   "id": "93e4c674-9472-49ea-8265-81773d4f0bba",
   "metadata": {},
   "outputs": [],
   "source": [
    "sensors = ahrs.Sensors(Quaternions)\n",
    "print(\"Gyroscopes:\\n\", sensors.gyroscopes)\n",
    "print(\"Accelerometers:\\n\", sensors.accelerometers)\n",
    "print(\"Magnetometers:\\n\", sensors.magnetometers)\n",
    "print(f\"Sampling frequency: {sensors.frequency:.2f} Hz\")\n",
    "print(f\"Number of samples: {sensors.num_samples:d}\")"
   ]
  },
  {
   "cell_type": "code",
   "execution_count": null,
   "id": "fab5fea7-9a67-4e88-8098-7255edb40535",
   "metadata": {},
   "outputs": [],
   "source": [
    "plot(sensors.gyroscopes, sensors.accelerometers, sensors.magnetometers, ylabels=['rad/s', 'm/s^2', 'nT'])"
   ]
  },
  {
   "cell_type": "markdown",
   "id": "d5d05048-ac7c-4c21-b659-461d2bae098a",
   "metadata": {},
   "source": [
    "## Attitude Estimators\n",
    "\n",
    "Perhaps the most valued contribution of `ahrs` is its collection of attitude estimation algorithms. You can find a list [here](https://ahrs.readthedocs.io/en/latest/filters.html)\n",
    "\n",
    "Let's jut explore one famous example: The [Madgwick Filter](https://ahrs.readthedocs.io/en/latest/filters/madgwick.html).\n",
    "\n",
    "First, we generate some random orientations. When we build a `Sensors` object without giving it an array of orientations, it generates random orientations for us."
   ]
  },
  {
   "cell_type": "code",
   "execution_count": null,
   "id": "2ac86432-98b8-4af4-8d31-5eb81c31349b",
   "metadata": {},
   "outputs": [],
   "source": [
    "simulated_data = ahrs.Sensors(num_samples=1000, in_degrees=False)\n",
    "plot(simulated_data.quaternions,\n",
    "     simulated_data.gyroscopes,\n",
    "     simulated_data.accelerometers,\n",
    "     simulated_data.magnetometers,\n",
    "     ylabels = ['quaternions', 'rad/s', 'm/s^2', 'nT'])"
   ]
  },
  {
   "cell_type": "markdown",
   "id": "1c8edd49-e5d9-49d6-93f5-e2e9a3235b72",
   "metadata": {},
   "source": [
    "Now that we generated IMU data, we can use it to estimate the original attitudes (orientations) with our Madgwick Filter."
   ]
  },
  {
   "cell_type": "code",
   "execution_count": null,
   "id": "01058ae9-7f50-4fda-a3ea-4a2d0b327e82",
   "metadata": {},
   "outputs": [],
   "source": [
    "madgwick = ahrs.filters.Madgwick(gyr=simulated_data.gyroscopes,\n",
    "                                 acc=simulated_data.accelerometers,\n",
    "                                 mag=simulated_data.magnetometers,\n",
    "                                 frequency=simulated_data.frequency)"
   ]
  },
  {
   "cell_type": "markdown",
   "id": "96065974-ded6-481b-b780-3bd253096308",
   "metadata": {},
   "source": [
    "Done!\n",
    "\n",
    "The `Madgwick` object uses the given arrays to immediately perform the full computation of the orientations.\n",
    "\n",
    "These orientations are in an $N\\times 4$ array accessible in the attribute called `Q` (stands for Quaternions)."
   ]
  },
  {
   "cell_type": "code",
   "execution_count": null,
   "id": "5e543069-3dfd-4d16-8eb2-3f0d781f88f2",
   "metadata": {},
   "outputs": [],
   "source": [
    "plot(simulated_data.quaternions, madgwick.Q)"
   ]
  },
  {
   "cell_type": "markdown",
   "id": "0826821a-c3ac-4d2d-b565-0a1ecbcf19bb",
   "metadata": {},
   "source": [
    "But what if we don't have the entire data beforehand?\n",
    "\n",
    "We can initialize the `Madgwick` object without any sensor data, but _specifying an initial orientation_.\n",
    "\n",
    "Once defined we estimate the orientations with any new data received, as we please."
   ]
  },
  {
   "cell_type": "code",
   "execution_count": null,
   "id": "cd66ddce-1a7f-4542-a6dc-8c2610e5dec5",
   "metadata": {},
   "outputs": [],
   "source": [
    "initial_quaternion = [1., 0., 0., 0.]\n",
    "madgwick = ahrs.filters.Madgwick(q0=initial_quaternion)"
   ]
  },
  {
   "cell_type": "code",
   "execution_count": null,
   "id": "2b6c88a7-0f82-4070-a86b-6c3fbfdcf689",
   "metadata": {},
   "outputs": [],
   "source": [
    "Quaternions = [initial_quaternion]    # Allocate first quaternion in an array\n",
    "for index in range(1, simulated_data.num_samples):\n",
    "    new_quaternion = madgwick.updateMARG(q=Quaternions[index-1],\n",
    "                                         gyr=simulated_data.gyroscopes[index],\n",
    "                                         acc=simulated_data.accelerometers[index],\n",
    "                                         mag=simulated_data.magnetometers[index],\n",
    "                                         dt=0.01)   # You can re-define the time-step (1/frequency) at each iteration\n",
    "    Quaternions.append(new_quaternion)"
   ]
  },
  {
   "cell_type": "markdown",
   "id": "cc7c1750-a81f-408d-ae88-7a9e0d384aff",
   "metadata": {},
   "source": [
    "This performs the exact operations as before, but we have more control of the computation at each estimation.\n",
    "\n",
    "Now we have an array of N computed Quaternions. We can use our `Quaternion` class to handle them too."
   ]
  },
  {
   "cell_type": "code",
   "execution_count": null,
   "id": "e5dc71d7-a439-49a6-a1f5-b88d75acf09a",
   "metadata": {},
   "outputs": [],
   "source": [
    "Quaternions = ahrs.QuaternionArray(Quaternions)\n",
    "plot(Quaternions)"
   ]
  },
  {
   "cell_type": "markdown",
   "id": "c2a6b5eb-4717-4e4d-b76d-39df42eeb90a",
   "metadata": {},
   "source": [
    "These operations are carried out similarly for many estimators included in `ahrs`.\n",
    "\n",
    "If you want to use any other, please check its documentation first, to see how can you take advantage of them.\n",
    "\n",
    "## Metrics\n",
    "\n",
    "Finally, we can explore another useful set of tools included in `ahrs`: [Metrics for SO(3)](https://ahrs.readthedocs.io/en/latest/metrics.html).\n",
    "\n",
    "These are a set of functions we can call to evaluate our estimated attitudes, or simply analyse them."
   ]
  },
  {
   "cell_type": "code",
   "execution_count": null,
   "id": "0c103eb6-9cc7-4ed2-ba18-c8bf57a58c06",
   "metadata": {},
   "outputs": [],
   "source": [
    "from tools import describe_functions\n",
    "describe_functions(ahrs.utils.metrics)"
   ]
  },
  {
   "cell_type": "markdown",
   "id": "b91c9203-bf11-486e-b208-3210d895b70b",
   "metadata": {},
   "source": [
    "For example, let's compare the original quaternions generated by our simulator and the estimated ones from the Madgwick filter, by using the [Quaternion Angle Difference](https://ahrs.readthedocs.io/en/latest/metrics.html#ahrs.utils.metrics.qad):"
   ]
  },
  {
   "cell_type": "code",
   "execution_count": null,
   "id": "86cbe693-d78a-4d03-8772-f91b02b67af0",
   "metadata": {},
   "outputs": [],
   "source": [
    "qad_differences = ahrs.utils.metrics.qad(simulated_data.quaternions, Quaternions)"
   ]
  },
  {
   "cell_type": "markdown",
   "id": "9cfbcd00-4de6-4ed0-97e3-a42a58a6b681",
   "metadata": {},
   "source": [
    "This function returns one value between $0$ and $\\pi$ per pair of Quaternions. A value of zero indicates the two compared quaternions are equal. The greater the value the more different they are.\n",
    "\n",
    "In this case, it compared all original quaternions against all estimated quaternions. For this to work, both arrays must have the same amount of quaternions."
   ]
  },
  {
   "cell_type": "code",
   "execution_count": null,
   "id": "542342d4-a28f-4ec3-95cf-85da92450baa",
   "metadata": {},
   "outputs": [],
   "source": [
    "plot(simulated_data.quaternions,\n",
    "     Quaternions,\n",
    "     qad_differences,\n",
    "     ylabels=['original\\nquaternions', 'estimated\\nquaternions', 'QAD'])"
   ]
  },
  {
   "cell_type": "markdown",
   "id": "914e27cb-374e-4cf8-b9e8-6baa284b83f8",
   "metadata": {},
   "source": [
    "We can clearly see the estimation slowly drifts away from the original pose.\n",
    "\n",
    "This is an easy and quick way to estimate the accuracy of our estimations.\n",
    "\n",
    "## World Models\n",
    "\n",
    "Finally, an interesting tool included in the package is a set of [World Models](https://ahrs.readthedocs.io/en/latest/world_models.html).\n",
    "\n",
    "These are functions that estimate the gravitational force and the magnetic field affecting an object.\n",
    "\n",
    "### World Geodetic System\n",
    "\n",
    "The [World Geodetic System 1984](https://ahrs.readthedocs.io/en/latest/wgs84.html) is the most common system used to estimate the gravitational force for any simple application.\n",
    "\n",
    "It is based on a model, where a solar body (planet, moon, dwarf planet, etc.) has an ellipsoidal form. With a certain mass and other physical properties we could estimate the gravitaional pull at any latitude and height above this ellipsoidal body.\n",
    "\n",
    "A more precise system is the [Earth Gravitational Model](https://en.wikipedia.org/wiki/Earth_Gravitational_Model) used by space agencies around the world, but this is not implemented in this package.\n",
    "\n",
    "So, a simple construction of the class [WGS](https://ahrs.readthedocs.io/en/latest/wgs84.html#ahrs.utils.wgs84.WGS) will initialize our object:"
   ]
  },
  {
   "cell_type": "code",
   "execution_count": null,
   "id": "d6d3780a-bbf2-4453-a05c-bc3c0c5f0af1",
   "metadata": {},
   "outputs": [],
   "source": [
    "wgs = ahrs.utils.WGS()"
   ]
  },
  {
   "cell_type": "markdown",
   "id": "3f136035-075a-49a0-848c-5c1f37facd6a",
   "metadata": {},
   "source": [
    "a simple call to the method [normal_gravity](https://ahrs.readthedocs.io/en/latest/wgs84.html#ahrs.utils.wgs84.WGS.normal_gravity) giving the latitude and height above sea level computes the gravitational acceleration, in m/s^2, at that point."
   ]
  },
  {
   "cell_type": "code",
   "execution_count": null,
   "id": "a53b6817-f2bb-478f-a262-eeb44450606d",
   "metadata": {},
   "outputs": [],
   "source": [
    "wgs.normal_gravity(50.0, 100.0)   # 50.0 degrees North, 100 m above sea level."
   ]
  },
  {
   "cell_type": "markdown",
   "id": "67d61f68-3b02-4d86-8323-2080b5cb6a8e",
   "metadata": {},
   "source": [
    "This WGS object has plenty of attributes describing the properties of the ellipsoidal body.\n",
    "\n",
    "By default it builds the ellipsoidal model of the Earth."
   ]
  },
  {
   "cell_type": "code",
   "execution_count": null,
   "id": "0553e59a-81f9-4b8a-b8b1-0290c6f5c555",
   "metadata": {},
   "outputs": [],
   "source": [
    "wgs_properties = [x for x in dir(wgs) if not (hasattr(wgs.__getattribute__(x), '__call__') or x.startswith('__'))]\n",
    "max_column_width = len(max(wgs_properties, key=len))\n",
    "for p in wgs_properties:\n",
    "    print(f\"{p:<{max_column_width}}  {wgs.__getattribute__(p)}\")"
   ]
  },
  {
   "cell_type": "markdown",
   "id": "13bde83f-f47c-48dc-885a-c5c3f3ecbc1e",
   "metadata": {},
   "source": [
    "4 main values define the entirety of the ellipsoid:\n",
    "\n",
    "- The semi-major axis (labeled `a`) is the radius at the Equator of the ellipsoidal body.\n",
    "- The flattenning (labeled `f`) is the \"compression\" of the ellipsoidal body. This can be used to define the semi-minor axis (labeled `b`) and many other properties.\n",
    "- The [Standard Gravitational constant](https://en.wikipedia.org/wiki/Standard_gravitational_parameter) (labeled `GM`) is the product of the ellipsoid's [gravitational constant](https://en.wikipedia.org/wiki/Gravitational_constant) and its mass.\n",
    "- The Ellipsoid's rotation rate (labeled `w`) is the rotation speed, in rad/s, of the ellipsoid.\n",
    "\n",
    "For a different Ellipsoidal model, simply define these 4 properties and the WGS takes care of computing the rest.\n",
    "\n",
    "A detailed description of all properties, their computation, and values, can be found in `ahrs`' [WGS documentation](https://ahrs.readthedocs.io/en/latest/wgs84.html#ahrs.utils.wgs84.WGS).\n",
    "\n",
    "Other models included in the package are:\n",
    "\n",
    "- The [International Gravity Formula](https://ahrs.readthedocs.io/en/latest/wgs84.html#ahrs.utils.wgs84.international_gravity). A simple equation calculating the normal gravity first defined in 1930. All its versions (1930, 1948, 1967, and 1980) are included too.\n",
    "- The [WELMEC](https://ahrs.readthedocs.io/en/latest/wgs84.html#ahrs.utils.wgs84.welmec_gravity) gravity zone approximates the gravitational acceleration. This is mostly focused in European needs and conventions. USed mainly to calibrate measurement tools.\n",
    "\n",
    "### WMM\n",
    "\n",
    "The [World Magnetic Model](https://en.wikipedia.org/wiki/World_Magnetic_Model) describing Earth's magnetic field is also included in this package, and we can call it similarly using the class [WMM](https://ahrs.readthedocs.io/en/latest/wmm.html)."
   ]
  },
  {
   "cell_type": "code",
   "execution_count": null,
   "id": "0761ca21-2b1f-481f-b70e-548967e1e570",
   "metadata": {},
   "outputs": [],
   "source": [
    "wmm = ahrs.utils.WMM()"
   ]
  },
  {
   "cell_type": "markdown",
   "id": "89f488f1-5d1b-4279-8e8f-c3e1ede526dc",
   "metadata": {},
   "source": [
    "In this case, because Earth's magnetic field changes much faster than its gravitational forces, the [WMM](https://ahrs.readthedocs.io/en/latest/wmm.html) uses [spherical harmonics](https://en.wikipedia.org/wiki/Spherical_harmonics) and a set of predefined coefficients to interpolate the magnetic field.\n",
    "\n",
    "These coefficients are included in the COFF files of the package.\n",
    "\n",
    "By default, WMM uses the values for the current day and the latitude, longitude and height above sea level of the city of Munich, where the creator of this package resides."
   ]
  },
  {
   "cell_type": "code",
   "execution_count": null,
   "id": "997f31e6-75d2-4f1f-a36b-dd7dadd56947",
   "metadata": {},
   "outputs": [],
   "source": [
    "wmm.magnetic_elements"
   ]
  },
  {
   "cell_type": "markdown",
   "id": "b7fce8b8-fad3-46a2-9798-eb0d36d84171",
   "metadata": {},
   "source": [
    "Where there values are in nT and each represent:\n",
    "\n",
    "| Element | Definition                                   |\n",
    "|---------|----------------------------------------------|\n",
    "| X       | Northerly intensity                          |\n",
    "| Y       | Easterly intensity                           |\n",
    "| Z       | Vertical intensity (Positive downwards)      |\n",
    "| H       | Horizontal intensity                         |\n",
    "| F       | Total intensity                              |\n",
    "| I       | Inclination angle (a.k.a. dip angle)         |\n",
    "| D       | Declination angle (a.k.a. magnetic variation)|\n",
    "| GV      | Grivation (yearly magnetic \"drift\")          |\n",
    "\n",
    "To retrieve the values at a any given point above Earth's surface, we have to give the desired date, latitude, longitude and height of that point above sea level."
   ]
  },
  {
   "cell_type": "code",
   "execution_count": null,
   "id": "e64c4931-a8ba-4c53-bdff-5c6fcfdc122c",
   "metadata": {},
   "outputs": [],
   "source": [
    "import datetime\n",
    "\n",
    "# 34.14 degrees North, 118.35 degrees West, 500 m above sea level (WMM uses km), on the 26th October 2015\n",
    "wmm = ahrs.utils.WMM(datetime.date(2015, 10, 26),\n",
    "                     latitude=34.14160468409308,\n",
    "                     longitude=-118.34978138071212,\n",
    "                     height=0.5)\n",
    "wmm.magnetic_elements"
   ]
  },
  {
   "cell_type": "markdown",
   "id": "ef74c6e8-7e87-4304-8f07-f3146816072c",
   "metadata": {},
   "source": [
    "Each can be also accessed individually."
   ]
  },
  {
   "cell_type": "code",
   "execution_count": null,
   "id": "e98ad6f6-025d-4a53-af2f-31909faf4698",
   "metadata": {},
   "outputs": [],
   "source": [
    "wmm.X"
   ]
  },
  {
   "cell_type": "code",
   "execution_count": null,
   "id": "535f78d2-0900-407c-8abf-bda301788bd7",
   "metadata": {},
   "outputs": [],
   "source": [
    "wmm.Y"
   ]
  },
  {
   "cell_type": "code",
   "execution_count": null,
   "id": "2cd47772-b285-49d6-be45-949bf8c32f2e",
   "metadata": {},
   "outputs": [],
   "source": [
    "wmm.Z"
   ]
  },
  {
   "cell_type": "code",
   "execution_count": null,
   "id": "8f43a986-1883-4113-a212-6819d4e9cb4c",
   "metadata": {},
   "outputs": [],
   "source": []
  }
 ],
 "metadata": {
  "kernelspec": {
   "display_name": "Python 3 (ipykernel)",
   "language": "python",
   "name": "python3"
  },
  "language_info": {
   "codemirror_mode": {
    "name": "ipython",
    "version": 3
   },
   "file_extension": ".py",
   "mimetype": "text/x-python",
   "name": "python",
   "nbconvert_exporter": "python",
   "pygments_lexer": "ipython3",
   "version": "3.11.2"
  }
 },
 "nbformat": 4,
 "nbformat_minor": 5
}
